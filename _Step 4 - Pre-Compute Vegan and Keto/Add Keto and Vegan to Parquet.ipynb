{
 "cells": [
  {
   "cell_type": "markdown",
   "id": "d66b07e2-e407-42a0-88dd-9d2642754418",
   "metadata": {},
   "source": [
    "# Adding is_keto and is_vegan columns to parquet"
   ]
  },
  {
   "cell_type": "markdown",
   "id": "959aed5c-3eb2-45dc-8cb6-f71708643dbc",
   "metadata": {},
   "source": [
    "Import necessary libraries and functions:"
   ]
  },
  {
   "cell_type": "code",
   "execution_count": 1,
   "id": "dce27ee6-5549-4fd0-93f0-4caaea318bba",
   "metadata": {},
   "outputs": [],
   "source": [
    "import pandas as pd"
   ]
  },
  {
   "cell_type": "code",
   "execution_count": 6,
   "id": "2ce258a7-d77a-42a4-a1dc-ec83ea24cf6d",
   "metadata": {},
   "outputs": [],
   "source": [
    "from diet_classifiers import is_keto, is_vegan"
   ]
  },
  {
   "cell_type": "markdown",
   "id": "666f0152-c7fd-48ba-b4fa-6d4781a3b8a7",
   "metadata": {},
   "source": [
    "Read parquet:"
   ]
  },
  {
   "cell_type": "code",
   "execution_count": 3,
   "id": "9794cf53-38bc-4135-9c6e-d1666efe07a7",
   "metadata": {},
   "outputs": [],
   "source": [
    "df = pd.read_parquet(\"allrecipes.parquet\")"
   ]
  },
  {
   "cell_type": "code",
   "execution_count": 4,
   "id": "36d43486-d05c-4eaf-96f9-a1cd71a43f9a",
   "metadata": {},
   "outputs": [
    {
     "data": {
      "text/plain": [
       "(225602, 5)"
      ]
     },
     "execution_count": 4,
     "metadata": {},
     "output_type": "execute_result"
    }
   ],
   "source": [
    "df.shape"
   ]
  },
  {
   "cell_type": "markdown",
   "id": "cc03f61c-3ebf-4ce3-b706-605b2f7ee7e0",
   "metadata": {},
   "source": [
    "Add columns:"
   ]
  },
  {
   "cell_type": "code",
   "execution_count": 7,
   "id": "925fb714-ab4e-4eca-ac46-82ebce2155bd",
   "metadata": {},
   "outputs": [],
   "source": [
    "df['is_keto'] = df['ingredients'].apply(is_keto)"
   ]
  },
  {
   "cell_type": "code",
   "execution_count": 9,
   "id": "f30f7442-7c03-40c8-907a-4984df91d616",
   "metadata": {},
   "outputs": [],
   "source": [
    "df['is_vegan'] = df['ingredients'].apply(is_vegan)"
   ]
  },
  {
   "cell_type": "code",
   "execution_count": 10,
   "id": "bccf267b-d87c-4b4c-9e6f-7199d397a2b6",
   "metadata": {},
   "outputs": [
    {
     "data": {
      "text/html": [
       "<div>\n",
       "<style scoped>\n",
       "    .dataframe tbody tr th:only-of-type {\n",
       "        vertical-align: middle;\n",
       "    }\n",
       "\n",
       "    .dataframe tbody tr th {\n",
       "        vertical-align: top;\n",
       "    }\n",
       "\n",
       "    .dataframe thead th {\n",
       "        text-align: right;\n",
       "    }\n",
       "</style>\n",
       "<table border=\"1\" class=\"dataframe\">\n",
       "  <thead>\n",
       "    <tr style=\"text-align: right;\">\n",
       "      <th></th>\n",
       "      <th>title</th>\n",
       "      <th>description</th>\n",
       "      <th>instructions</th>\n",
       "      <th>ingredients</th>\n",
       "      <th>photo_url</th>\n",
       "      <th>is_keto</th>\n",
       "      <th>is_vegan</th>\n",
       "    </tr>\n",
       "  </thead>\n",
       "  <tbody>\n",
       "    <tr>\n",
       "      <th>0</th>\n",
       "      <td>Basil, Roasted Peppers and Monterey Jack Cornb...</td>\n",
       "      <td>I just started adding my favorite things to ba...</td>\n",
       "      <td>[Preheat oven to 400 degrees F (205 degrees C)...</td>\n",
       "      <td>[1/2 cup unsalted butter, chilled and cubed, 1...</td>\n",
       "      <td>http://images.media-allrecipes.com/userphotos/...</td>\n",
       "      <td>False</td>\n",
       "      <td>False</td>\n",
       "    </tr>\n",
       "    <tr>\n",
       "      <th>1</th>\n",
       "      <td>Crispy Cheese Twists</td>\n",
       "      <td>These are great as an appetizer or served alon...</td>\n",
       "      <td>[Combine parmesan cheese, pepper and garlic po...</td>\n",
       "      <td>[1/2 cup Parmesan cheese, 3/4 teaspoon ground ...</td>\n",
       "      <td>http://images.media-allrecipes.com/userphotos/...</td>\n",
       "      <td>False</td>\n",
       "      <td>False</td>\n",
       "    </tr>\n",
       "    <tr>\n",
       "      <th>2</th>\n",
       "      <td>Mom's Yeast Rolls</td>\n",
       "      <td>This is the best bread recipe.  Light and fluf...</td>\n",
       "      <td>[Melt margarine in hot water. Add sugar and sa...</td>\n",
       "      <td>[2 cups hot water, 1/2 cup margarine, 1/3 cup ...</td>\n",
       "      <td>http://images.media-allrecipes.com/userphotos/...</td>\n",
       "      <td>False</td>\n",
       "      <td>False</td>\n",
       "    </tr>\n",
       "    <tr>\n",
       "      <th>3</th>\n",
       "      <td>Sweet Potato Bread I</td>\n",
       "      <td>A Southern delight with a 'more-ish'  taste.  ...</td>\n",
       "      <td>[Combine sugar and oil; beat well. Add eggs an...</td>\n",
       "      <td>[1 1/2 cups white sugar, 1/2 cup vegetable oil...</td>\n",
       "      <td>http://images.media-allrecipes.com/userphotos/...</td>\n",
       "      <td>False</td>\n",
       "      <td>False</td>\n",
       "    </tr>\n",
       "    <tr>\n",
       "      <th>4</th>\n",
       "      <td>Orange Buns</td>\n",
       "      <td>You can make these into braids or buns. Frost ...</td>\n",
       "      <td>[Stir butter and 1 teaspoon sugar into the hot...</td>\n",
       "      <td>[1/4 cup butter, 1 teaspoon white sugar, 1 cup...</td>\n",
       "      <td>http://images.media-allrecipes.com/userphotos/...</td>\n",
       "      <td>False</td>\n",
       "      <td>False</td>\n",
       "    </tr>\n",
       "  </tbody>\n",
       "</table>\n",
       "</div>"
      ],
      "text/plain": [
       "                                               title  \\\n",
       "0  Basil, Roasted Peppers and Monterey Jack Cornb...   \n",
       "1                               Crispy Cheese Twists   \n",
       "2                                  Mom's Yeast Rolls   \n",
       "3                               Sweet Potato Bread I   \n",
       "4                                        Orange Buns   \n",
       "\n",
       "                                         description  \\\n",
       "0  I just started adding my favorite things to ba...   \n",
       "1  These are great as an appetizer or served alon...   \n",
       "2  This is the best bread recipe.  Light and fluf...   \n",
       "3  A Southern delight with a 'more-ish'  taste.  ...   \n",
       "4  You can make these into braids or buns. Frost ...   \n",
       "\n",
       "                                        instructions  \\\n",
       "0  [Preheat oven to 400 degrees F (205 degrees C)...   \n",
       "1  [Combine parmesan cheese, pepper and garlic po...   \n",
       "2  [Melt margarine in hot water. Add sugar and sa...   \n",
       "3  [Combine sugar and oil; beat well. Add eggs an...   \n",
       "4  [Stir butter and 1 teaspoon sugar into the hot...   \n",
       "\n",
       "                                         ingredients  \\\n",
       "0  [1/2 cup unsalted butter, chilled and cubed, 1...   \n",
       "1  [1/2 cup Parmesan cheese, 3/4 teaspoon ground ...   \n",
       "2  [2 cups hot water, 1/2 cup margarine, 1/3 cup ...   \n",
       "3  [1 1/2 cups white sugar, 1/2 cup vegetable oil...   \n",
       "4  [1/4 cup butter, 1 teaspoon white sugar, 1 cup...   \n",
       "\n",
       "                                           photo_url  is_keto  is_vegan  \n",
       "0  http://images.media-allrecipes.com/userphotos/...    False     False  \n",
       "1  http://images.media-allrecipes.com/userphotos/...    False     False  \n",
       "2  http://images.media-allrecipes.com/userphotos/...    False     False  \n",
       "3  http://images.media-allrecipes.com/userphotos/...    False     False  \n",
       "4  http://images.media-allrecipes.com/userphotos/...    False     False  "
      ]
     },
     "execution_count": 10,
     "metadata": {},
     "output_type": "execute_result"
    }
   ],
   "source": [
    "df.head()"
   ]
  },
  {
   "cell_type": "markdown",
   "id": "b0593a92-d898-4592-8d9a-845471e33813",
   "metadata": {},
   "source": [
    "Write to file:"
   ]
  },
  {
   "cell_type": "code",
   "execution_count": 11,
   "id": "6fa69274-d1e3-45c1-8041-c32bd553e738",
   "metadata": {},
   "outputs": [],
   "source": [
    "df.to_parquet(\"allrecipes_extended.parquet\")"
   ]
  },
  {
   "cell_type": "code",
   "execution_count": null,
   "id": "8d8b4607-320e-4e20-ba47-eca35cd9fcfb",
   "metadata": {},
   "outputs": [],
   "source": []
  }
 ],
 "metadata": {
  "kernelspec": {
   "display_name": "Python 3 (ipykernel)",
   "language": "python",
   "name": "python3"
  },
  "language_info": {
   "codemirror_mode": {
    "name": "ipython",
    "version": 3
   },
   "file_extension": ".py",
   "mimetype": "text/x-python",
   "name": "python",
   "nbconvert_exporter": "python",
   "pygments_lexer": "ipython3",
   "version": "3.12.4"
  }
 },
 "nbformat": 4,
 "nbformat_minor": 5
}
